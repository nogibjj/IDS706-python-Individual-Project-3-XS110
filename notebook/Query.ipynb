{
 "cells": [
  {
   "cell_type": "code",
   "execution_count": null,
   "metadata": {
    "application/vnd.databricks.v1+cell": {
     "cellMetadata": {},
     "inputWidgets": {},
     "nuid": "7b64ec4c-710d-4a0c-bc78-4b56b95852d4",
     "showTitle": false,
     "title": ""
    }
   },
   "outputs": [],
   "source": [
    "%pip install tabulate\n",
    "dbutils.library.restartPython()\n",
    "import matplotlib.pyplot as plt"
   ]
  },
  {
   "cell_type": "code",
   "execution_count": null,
   "metadata": {
    "application/vnd.databricks.v1+cell": {
     "cellMetadata": {
      "byteLimit": 2048000,
      "rowLimit": 10000
     },
     "inputWidgets": {},
     "nuid": "4f105efb-b270-4039-a7cb-a5025597c050",
     "showTitle": false,
     "title": ""
    }
   },
   "outputs": [
    {
     "data": {
      "text/html": [
       "<div>\n",
       "<style scoped>\n",
       "    .dataframe tbody tr th:only-of-type {\n",
       "        vertical-align: middle;\n",
       "    }\n",
       "\n",
       "    .dataframe tbody tr th {\n",
       "        vertical-align: top;\n",
       "    }\n",
       "\n",
       "    .dataframe thead th {\n",
       "        text-align: right;\n",
       "    }\n",
       "</style>\n",
       "<table border=\"1\" class=\"dataframe\">\n",
       "  <thead>\n",
       "    <tr style=\"text-align: right;\">\n",
       "      <th></th>\n",
       "      <th>year</th>\n",
       "      <th>num_songs</th>\n",
       "    </tr>\n",
       "  </thead>\n",
       "  <tbody>\n",
       "    <tr>\n",
       "      <th>0</th>\n",
       "      <td>2010</td>\n",
       "      <td>686</td>\n",
       "    </tr>\n",
       "    <tr>\n",
       "      <th>1</th>\n",
       "      <td>2009</td>\n",
       "      <td>1838</td>\n",
       "    </tr>\n",
       "    <tr>\n",
       "      <th>2</th>\n",
       "      <td>2008</td>\n",
       "      <td>2066</td>\n",
       "    </tr>\n",
       "    <tr>\n",
       "      <th>3</th>\n",
       "      <td>2007</td>\n",
       "      <td>2526</td>\n",
       "    </tr>\n",
       "    <tr>\n",
       "      <th>4</th>\n",
       "      <td>2006</td>\n",
       "      <td>2482</td>\n",
       "    </tr>\n",
       "    <tr>\n",
       "      <th>...</th>\n",
       "      <td>...</td>\n",
       "      <td>...</td>\n",
       "    </tr>\n",
       "    <tr>\n",
       "      <th>69</th>\n",
       "      <td>1931</td>\n",
       "      <td>4</td>\n",
       "    </tr>\n",
       "    <tr>\n",
       "      <th>70</th>\n",
       "      <td>1930</td>\n",
       "      <td>2</td>\n",
       "    </tr>\n",
       "    <tr>\n",
       "      <th>71</th>\n",
       "      <td>1929</td>\n",
       "      <td>6</td>\n",
       "    </tr>\n",
       "    <tr>\n",
       "      <th>72</th>\n",
       "      <td>1928</td>\n",
       "      <td>4</td>\n",
       "    </tr>\n",
       "    <tr>\n",
       "      <th>73</th>\n",
       "      <td>1927</td>\n",
       "      <td>2</td>\n",
       "    </tr>\n",
       "  </tbody>\n",
       "</table>\n",
       "<p>74 rows × 2 columns</p>\n",
       "</div>"
      ],
      "text/plain": [
       "    year  num_songs\n",
       "0   2010        686\n",
       "1   2009       1838\n",
       "2   2008       2066\n",
       "3   2007       2526\n",
       "4   2006       2482\n",
       "..   ...        ...\n",
       "69  1931          4\n",
       "70  1930          2\n",
       "71  1929          6\n",
       "72  1928          4\n",
       "73  1927          2\n",
       "\n",
       "[74 rows x 2 columns]"
      ]
     },
     "execution_count": 19,
     "metadata": {},
     "output_type": "execute_result"
    }
   ],
   "source": [
    "# Usage of Spark SQL for data transformations\n",
    "Num_songs_year = spark.sql(\"\"\"\n",
    "    SELECT\n",
    "    year,\n",
    "    count(artist_name) AS num_songs\n",
    "    FROM\n",
    "    prepare_songs_data\n",
    "    WHERE\n",
    "    year > 0\n",
    "    GROUP BY\n",
    "    year\n",
    "    ORDER BY\n",
    "    year DESC\n",
    "\"\"\").toPandas()\n",
    "\n",
    "Num_songs_year"
   ]
  },
  {
   "cell_type": "code",
   "execution_count": null,
   "metadata": {
    "application/vnd.databricks.v1+cell": {
     "cellMetadata": {
      "byteLimit": 2048000,
      "rowLimit": 10000
     },
     "inputWidgets": {},
     "nuid": "d5c55787-321e-4490-8871-653b5909f0d1",
     "showTitle": false,
     "title": ""
    }
   },
   "outputs": [
    {
     "name": "stdout",
     "output_type": "stream",
     "text": [
      "Data validation passed. 74 rows available.\n"
     ]
    }
   ],
   "source": [
    "# Proper error handling\n",
    "row = Num_songs_year.count()[1]\n",
    "if row>0:\n",
    "    print(f\"Data validation passed. {row} rows available.\")\n",
    "else:\n",
    "    print(\"No data queried\")"
   ]
  },
  {
   "cell_type": "code",
   "execution_count": null,
   "metadata": {
    "application/vnd.databricks.v1+cell": {
     "cellMetadata": {
      "byteLimit": 2048000,
      "rowLimit": 10000
     },
     "inputWidgets": {},
     "nuid": "756fffb0-176c-4ba4-acfb-9cad7a1e8512",
     "showTitle": false,
     "title": ""
    }
   },
   "outputs": [
    {
     "data": {
      "image/png": "[encoded data removed]",
      "text/plain": [
       "<Figure size 1500x800 with 1 Axes>"
      ]
     },
     "metadata": {},
     "output_type": "display_data"
    }
   ],
   "source": [
    "# Visualization of the transformed data\n",
    "# Plot a bar plot\n",
    "plt.figure(figsize=(15, 8))\n",
    "plt.bar(Num_songs_year[\"year\"], Num_songs_year[\"num_songs\"], color='skyblue')\n",
    "plt.title(\"Number of songs for Each Year\")\n",
    "plt.xlabel(\"Year\")\n",
    "plt.ylabel(\"Number of songs\")\n",
    "plt.show()\n"
   ]
  },
  {
   "cell_type": "code",
   "execution_count": null,
   "metadata": {
    "application/vnd.databricks.v1+cell": {
     "cellMetadata": {
      "byteLimit": 2048000,
      "rowLimit": 10000
     },
     "inputWidgets": {},
     "nuid": "25ba20f4-afcf-4d48-97c6-aacf84c5a607",
     "showTitle": false,
     "title": ""
    }
   },
   "outputs": [],
   "source": [
    "# Spark SQL Query: Which artists released the most songs each year?\n",
    "top_artists = spark.sql(\n",
    "    \"\"\"\n",
    "    SELECT\n",
    "    artist_name,\n",
    "    count(artist_name)\n",
    "    AS\n",
    "    num_songs,\n",
    "    year\n",
    "    FROM\n",
    "    prepare_songs_data\n",
    "    WHERE\n",
    "    year > 0\n",
    "    GROUP BY\n",
    "    artist_name,\n",
    "    year\n",
    "    ORDER BY\n",
    "    num_songs DESC,\n",
    "    year DESC\n",
    "    LIMIT 10\n",
    "\"\"\"\n",
    ")"
   ]
  },
  {
   "cell_type": "code",
   "execution_count": null,
   "metadata": {
    "application/vnd.databricks.v1+cell": {
     "cellMetadata": {
      "byteLimit": 2048000,
      "rowLimit": 10000
     },
     "inputWidgets": {},
     "nuid": "671d9009-1e44-4488-b756-ceddd667dae0",
     "showTitle": false,
     "title": ""
    }
   },
   "outputs": [],
   "source": [
    "# Spark SQL Query: Find songs for your DJ list\n",
    "top_DJ = spark.sql(\n",
    "    \"\"\"\n",
    "    SELECT\n",
    "    artist_name,\n",
    "    title,\n",
    "    tempo\n",
    "    FROM\n",
    "    prepare_songs_data\n",
    "    WHERE\n",
    "    time_signature = 4\n",
    "    AND\n",
    "    tempo between 100 and 140\n",
    "    ORDER BY tempo DESC\n",
    "    LIMIT 10\n",
    "\"\"\"\n",
    ")"
   ]
  },
  {
   "cell_type": "code",
   "execution_count": null,
   "metadata": {
    "application/vnd.databricks.v1+cell": {
     "cellMetadata": {
      "byteLimit": 2048000,
      "rowLimit": 10000
     },
     "inputWidgets": {},
     "nuid": "4659c77b-6bc0-4921-b497-d74d763ea541",
     "showTitle": false,
     "title": ""
    }
   },
   "outputs": [],
   "source": [
    "\n",
    "from tabulate import tabulate\n",
    "\n",
    "# Convert top_artists DataFrame to Pandas DataFrame\n",
    "top_artists_pandas = top_artists.toPandas()\n",
    "\n",
    "# Convert top_DJ DataFrame to Pandas DataFrame\n",
    "top_DJ_pandas = top_DJ.toPandas()\n",
    "\n",
    "# Convert Pandas DataFrame to Markdown format\n",
    "top_artists_md = tabulate(top_artists_pandas, tablefmt=\"pipe\", headers=\"keys\")\n",
    "top_DJ_md = tabulate(top_DJ_pandas, tablefmt=\"pipe\", headers=\"keys\")\n",
    "Num_songs_year_md = tabulate(Num_songs_year, tablefmt=\"pipe\", headers=\"keys\")\n",
    "# Write to result.md\n",
    "with open(\"result.md\", \"w\") as f:\n",
    "    f.write(\"# Number of songs for Each Year\\n\")\n",
    "    f.write(Num_songs_year_md)\n",
    "    f.write(\"\\n\\n# Top artists\\n\")\n",
    "    f.write(top_artists_md)  \n",
    "    f.write(\"\\n\\n# Top DJs\\n\")\n",
    "    f.write(top_DJ_md)"
   ]
  }
 ],
 "metadata": {
  "application/vnd.databricks.v1+notebook": {
   "dashboards": [],
   "language": "python",
   "notebookMetadata": {
    "mostRecentlyExecutedCommandWithImplicitDF": {
     "commandId": 3845120124834162,
     "dataframes": [
      "_sqldf"
     ]
    },
    "pythonIndentUnit": 4
   },
   "notebookName": "Analyze songs data",
   "widgets": {}
  },
  "language_info": {
   "name": "python"
  }
 },
 "nbformat": 4,
 "nbformat_minor": 0
}
